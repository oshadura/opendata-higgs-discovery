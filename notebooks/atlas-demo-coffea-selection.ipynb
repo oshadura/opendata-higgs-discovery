{
 "cells": [
  {
   "cell_type": "markdown",
   "metadata": {},
   "source": [
    "# Build a first version of the event selection for $H \\rightarrow 4 \\ell$\n",
    "\n",
    "This will test Coffea to see if we can figure out how to use it with our code.\n",
    "\n",
    "First are the includes from coffea. This is based on the [example written by Ben](https://github.com/CoffeaTeam/coffea/blob/master/binder/servicex/ATLAS/LocalExample.ipynb)."
   ]
  },
  {
   "cell_type": "code",
   "execution_count": 2,
   "metadata": {},
   "outputs": [],
   "source": [
    "from servicex import ServiceXDataset\r\n",
    "from coffea.processor.servicex import DataSource, Analysis\r\n",
    "from coffea.processor.servicex import LocalExecutor \r\n",
    "\r\n",
    "import matplotlib.pyplot as plt\r\n",
    "import numpy as np\r\n",
    "\r\n",
    "from coffea import hist, processor\r\n",
    "from IPython.display import display, update_display, HTML"
   ]
  },
  {
   "cell_type": "markdown",
   "metadata": {},
   "source": [
    "And imports connected with running servicex."
   ]
  },
  {
   "cell_type": "code",
   "execution_count": 3,
   "metadata": {},
   "outputs": [],
   "source": [
    "from func_adl import ObjectStream\r\n",
    "from func_adl_servicex import ServiceXSourceUpROOT\r\n",
    "from hist import Hist\r\n",
    "import mplhep as mpl\r\n",
    "import awkward as ak\r\n",
    "\r\n",
    "from utils import files"
   ]
  },
  {
   "cell_type": "markdown",
   "metadata": {},
   "source": [
    "Methods copied to help us get all leptons from the source files"
   ]
  },
  {
   "cell_type": "code",
   "execution_count": 4,
   "metadata": {},
   "outputs": [],
   "source": [
    "def apply_event_cuts (source: ObjectStream) -> ObjectStream:\r\n",
    "    '''Event level cuts for the analysis. Keep from sending data that we aren't going to need at all in the end.\r\n",
    "    '''\r\n",
    "    return (source\r\n",
    "        .Where(lambda e: e.trigE or e.trigM))\r\n",
    "\r\n",
    "def good_leptons(source: ObjectStream) -> ObjectStream:\r\n",
    "    '''Select out all good leptons from each event. Return their pt, eta, phi, and E, and other\r\n",
    "    things needed downstream.\r\n",
    "\r\n",
    "    Because uproot doesn't tie toegher the objects, we can't do any cuts at this point.\r\n",
    "    '''\r\n",
    "    return source.Select(lambda e:\r\n",
    "        {\r\n",
    "            'lep_pt': e.lep_pt,\r\n",
    "            'lep_eta': e.lep_eta,\r\n",
    "            'lep_phi': e.lep_phi,\r\n",
    "            'lep_energy': e.lep_E,\r\n",
    "            'lep_charge': e.lep_charge,\r\n",
    "            'lep_ptcone30': e.lep_ptcone30,\r\n",
    "            'lep_etcone20': e.lep_etcone20,\r\n",
    "            'lep_typeid': e.lep_type,\r\n",
    "            'lep_trackd0pvunbiased': e.lep_trackd0pvunbiased,\r\n",
    "            'lep_tracksigd0pvunbiased': e.lep_tracksigd0pvunbiased,\r\n",
    "            'lep_z0': e.lep_z0,\r\n",
    "            'mcWeight': e.mcWeight,\r\n",
    "            'scaleFactor': e.scaleFactor_ELE*e.scaleFactor_MUON*e.scaleFactor_LepTRIGGER*e.scaleFactor_PILEUP,\r\n",
    "        })"
   ]
  },
  {
   "cell_type": "markdown",
   "metadata": {},
   "source": [
    "Create the `func_adl` cuts to get the data. The dataset we use here doesn't matter, as long as it \"looks\" like all the datasets we are going to be processing."
   ]
  },
  {
   "cell_type": "code",
   "execution_count": 5,
   "metadata": {},
   "outputs": [],
   "source": [
    "ds = ServiceXSourceUpROOT('cernopendata://dummy',  \"mini\", backend_name='open_uproot')\n",
    "ds.return_qastle = True\n",
    "leptons = good_leptons(apply_event_cuts(ds))"
   ]
  },
  {
   "cell_type": "markdown",
   "metadata": {},
   "source": [
    "The analysis code that will apply the 4 lepton cuts and make the 4 lepton mass plot."
   ]
  },
  {
   "cell_type": "code",
   "execution_count": 6,
   "metadata": {},
   "outputs": [],
   "source": [
    "class ATLAS_Higgs_4L(Analysis):\r\n",
    "    @staticmethod\r\n",
    "    def process(events):\r\n",
    "        import awkward as ak\r\n",
    "        from collections import defaultdict\r\n",
    "\r\n",
    "        sumw = defaultdict(float)\r\n",
    "        mass_hist = hist.Hist(\r\n",
    "            \"Events\",\r\n",
    "            hist.Cat(\"channel\", \"Channel\"),\r\n",
    "            hist.Bin(\"mass\", \"$Z_{ee}$ [GeV]\", 60, 60, 180),\r\n",
    "        )\r\n",
    "        weight = events.scaleFactor*events.mcWeight\r\n",
    "\r\n",
    "        dataset = events.metadata['dataset']\r\n",
    "        leptons = events.lep\r\n",
    "\r\n",
    "        # Good electon selection\r\n",
    "        electrons_mask = ((leptons.typeid == 11)\r\n",
    "            & (leptons.pt > 7000.0)\r\n",
    "            & (abs(leptons.eta) <2.47)\r\n",
    "            & (leptons.etcone20 / leptons.pt < 0.3)\r\n",
    "            & (leptons.ptcone30 / leptons.pt < 0.3)\r\n",
    "            & (abs(leptons.trackd0pvunbiased) / leptons.tracksigd0pvunbiased < 5)\r\n",
    "            & (abs(leptons.z0*np.sin(leptons.theta)) < 0.5)\r\n",
    "        )\r\n",
    "\r\n",
    "        electrons_good = leptons[electrons_mask]\r\n",
    "\r\n",
    "        # Good muon selection\r\n",
    "        muon_mask = ((leptons.typeid == 13)\r\n",
    "            & (leptons.pt > 5000.0)\r\n",
    "            & (abs(leptons.eta) <2.5)\r\n",
    "            & (leptons.etcone20 / leptons.pt < 0.3)\r\n",
    "            & (leptons.ptcone30 / leptons.pt < 0.3)\r\n",
    "            & (abs(leptons.trackd0pvunbiased) / leptons.tracksigd0pvunbiased < 3)\r\n",
    "            & (abs(leptons.z0*np.sin(leptons.theta)) < 0.5)\r\n",
    "        )\r\n",
    "\r\n",
    "        muons_good = leptons[muon_mask]\r\n",
    "\r\n",
    "        # In order to cut in sorted lepton pt, we have to rebuild a lepton array here\r\n",
    "        leptons_good = ak.concatenate((electrons_good, muons_good), axis=1)\r\n",
    "        leptons_good_index = ak.argsort(leptons_good.pt, ascending=False)\r\n",
    "        leptons_good_sorted = leptons_good[leptons_good_index]\r\n",
    "\r\n",
    "        # Event level cuts now that we know the good leptons\r\n",
    "        # - We need to look at 4 good lepton events only\r\n",
    "        # - We need same flavor, so check for even numbers of each flavor\r\n",
    "        # - all charges must be balenced\r\n",
    "        event_mask = (\r\n",
    "            (ak.num(leptons_good_sorted) == 4)\r\n",
    "            & ((ak.num(electrons_good) == 0) | (ak.num(electrons_good) == 2) | (ak.num(electrons_good) == 4))\r\n",
    "            & ((ak.num(muons_good) == 0) | (ak.num(muons_good) == 2) | (ak.num(muons_good) == 4))\r\n",
    "            & (ak.sum(electrons_good.charge, axis=1) == 0)\r\n",
    "            & (ak.sum(muons_good.charge, axis=1) == 0)\r\n",
    "        )\r\n",
    "\r\n",
    "        # Next, we need to cut on the pT for the leading, sub-leading, and sub-sub-leading lepton\r\n",
    "        leptons_good_preselection = leptons_good[event_mask]\r\n",
    "        event_good_lepton_mask = (\r\n",
    "            (leptons_good_preselection[:,0].pt > 25000.0)\r\n",
    "            & (leptons_good_preselection[:,1].pt > 15000.0)\r\n",
    "            & (leptons_good_preselection[:,2].pt > 10000.0)\r\n",
    "        )\r\n",
    "\r\n",
    "        # Now, we need to rebuild the good muon and electron lists with those selections\r\n",
    "        muons_analysis = muons_good[event_mask][event_good_lepton_mask]\r\n",
    "        electrons_analysis = electrons_good[event_mask][event_good_lepton_mask]\r\n",
    "\r\n",
    "        # Lets do eemumu events - as there are no permutations there.abs\r\n",
    "        # At this point if there are two muons, there must be two electrons\r\n",
    "        eemumu_mask = (ak.num(muons_analysis) == 2)\r\n",
    "        muon_eemumu = muons_analysis[eemumu_mask]\r\n",
    "        electrons_eemumu = electrons_analysis[eemumu_mask]\r\n",
    "        z1_eemumu = muon_eemumu[:,0] + muon_eemumu[:,1]\r\n",
    "        z2_eemumu = electrons_eemumu[:,0] + electrons_eemumu[:,1]\r\n",
    "        h_eemumu = z1_eemumu + z2_eemumu\r\n",
    "\r\n",
    "        sumw[dataset] += len(h_eemumu)\r\n",
    "        mass_hist.fill(\r\n",
    "            channel='eemumu',\r\n",
    "            mass=h_eemumu.mass/1000.0,\r\n",
    "            weight=weight[eemumu_mask]\r\n",
    "        )\r\n",
    "\r\n",
    "        # Next, eeee. For this we have to build permutations and select the best one\r\n",
    "        def four_leptons_one_flavor(same_flavor_leptons, event_weights, channel: str):\r\n",
    "            fl_positive = same_flavor_leptons[same_flavor_leptons.charge > 0]\r\n",
    "            fl_negative = same_flavor_leptons[same_flavor_leptons.charge < 0]\r\n",
    "            fl_pairs = ak.cartesian((fl_positive, fl_negative))\r\n",
    "            # fl_pairs_args = ak.argcartesian((fl_positive, fl_negative))\r\n",
    "            zs = fl_pairs[\"0\"] + fl_pairs[\"1\"]\r\n",
    "\r\n",
    "            delta = abs((91.18*1000.0) - zs.mass[:])\r\n",
    "            closest_masses = np.min(delta, axis=-1)\r\n",
    "            the_closest = (delta == closest_masses)\r\n",
    "            the_furthest = the_closest[:,::-1]\r\n",
    "\r\n",
    "            h_eeee = zs[the_closest] + zs[the_furthest]\r\n",
    "            sumw[dataset] += len(h_eeee)\r\n",
    "            mass_hist.fill(\r\n",
    "                channel=channel,\r\n",
    "                mass=ak.flatten(h_eeee.mass/1000.0),\r\n",
    "                weight=event_weights,\r\n",
    "            )\r\n",
    "\r\n",
    "        four_leptons_one_flavor(electrons_analysis[(ak.num(electrons_analysis) == 4)],\r\n",
    "                                weight[(ak.num(electrons_analysis) == 4)],\r\n",
    "                                'eeee')\r\n",
    "        four_leptons_one_flavor(muons_analysis[(ak.num(muons_analysis) == 4)],\r\n",
    "                                weight[(ak.num(muons_analysis) == 4)],\r\n",
    "                                'mumumumu')\r\n",
    "        \r\n",
    "        return {\r\n",
    "            \"sumw\": sumw,\r\n",
    "            \"mass\": mass_hist,\r\n",
    "        }"
   ]
  },
  {
   "cell_type": "markdown",
   "metadata": {},
   "source": [
    "Create the data source that we will be running against."
   ]
  },
  {
   "cell_type": "code",
   "execution_count": 7,
   "metadata": {},
   "outputs": [],
   "source": [
    "def make_ds(name: str, query: ObjectStream):\n",
    "    '''Create a ServiceX Datasource for a particular ATLAS Open data file\n",
    "    '''\n",
    "    datasets = [ServiceXDataset(files[name]['files'], backend_name='open_uproot', image='sslhep/servicex_func_adl_uproot_transformer:pr_fix_awk_bug')]\n",
    "    return DataSource(query=query, metadata={'dataset': name}, datasets=datasets)"
   ]
  },
  {
   "cell_type": "markdown",
   "metadata": {},
   "source": [
    "And run!"
   ]
  },
  {
   "cell_type": "code",
   "execution_count": 8,
   "metadata": {},
   "outputs": [
    {
     "data": {
      "application/vnd.jupyter.widget-view+json": {
       "model_id": "",
       "version_major": 2,
       "version_minor": 0
      },
      "text/plain": [
       "[root://eospublic.ce...:   0%|          | 0/9000000000.0 [00:00]"
      ]
     },
     "metadata": {},
     "output_type": "display_data"
    },
    {
     "data": {
      "application/vnd.jupyter.widget-view+json": {
       "model_id": "",
       "version_major": 2,
       "version_minor": 0
      },
      "text/plain": [
       "        [root://eospublic.ce... Downloaded:   0%|          | 0/9000000000.0 [00:00]"
      ]
     },
     "metadata": {},
     "output_type": "display_data"
    }
   ],
   "source": [
    "analysis = ATLAS_Higgs_4L()\n",
    "executor = LocalExecutor()\n",
    "#executor = DaskExecutor(client_addr=\"tls://localhost:8786\")\n",
    "datasource = make_ds('ggH125_ZZ4lep', leptons)\n",
    "\n",
    "async def run_updates_stream(accumulator_stream):\n",
    "  global first\n",
    "\n",
    "  count = 0\n",
    "  async for coffea_info in accumulator_stream:\n",
    "    pass\n",
    "  return coffea_info\n",
    "\n",
    "# Why do I need run_updates_stream, why not just await on execute (which fails with async gen can't).\n",
    "# Perhaps something from aiostream can help here?\n",
    "result = await run_updates_stream(executor.execute(analysis, datasource))"
   ]
  },
  {
   "cell_type": "code",
   "execution_count": 9,
   "metadata": {},
   "outputs": [
    {
     "data": {
      "text/plain": [
       "<AxesSubplot:xlabel='$Z_{ee}$ [GeV]', ylabel='Events'>"
      ]
     },
     "execution_count": 9,
     "metadata": {},
     "output_type": "execute_result"
    },
    {
     "data": {
      "image/png": "[encoded data removed]",
      "text/plain": [
       "<Figure size 432x288 with 1 Axes>"
      ]
     },
     "metadata": {
      "needs_background": "light"
     },
     "output_type": "display_data"
    }
   ],
   "source": [
    "hist.plot1d(result['mass'])"
   ]
  },
  {
   "cell_type": "code",
   "execution_count": 10,
   "metadata": {},
   "outputs": [],
   "source": [
    "h = result['mass']"
   ]
  },
  {
   "cell_type": "code",
   "execution_count": 11,
   "metadata": {},
   "outputs": [
    {
     "data": {
      "text/plain": [
       "<AxesSubplot:xlabel='$Z_{ee}$ [GeV]', ylabel='Events'>"
      ]
     },
     "execution_count": 11,
     "metadata": {},
     "output_type": "execute_result"
    },
    {
     "data": {
      "image/png": "[encoded data removed]",
      "text/plain": [
       "<Figure size 432x288 with 1 Axes>"
      ]
     },
     "metadata": {
      "needs_background": "light"
     },
     "output_type": "display_data"
    }
   ],
   "source": [
    "hist.plot1d(h.project('mass'))"
   ]
  },
  {
   "cell_type": "code",
   "execution_count": null,
   "metadata": {},
   "outputs": [],
   "source": []
  }
 ],
 "metadata": {
  "interpreter": {
   "hash": "41c976a3581ca23dd5321440c1ba6aa61955a2d341cd42821c29af40225a7b53"
  },
  "kernelspec": {
   "display_name": "Python 3 (ipykernel)",
   "language": "python",
   "name": "python3"
  },
  "language_info": {
   "codemirror_mode": {
    "name": "ipython",
    "version": 3
   },
   "file_extension": ".py",
   "mimetype": "text/x-python",
   "name": "python",
   "nbconvert_exporter": "python",
   "pygments_lexer": "ipython3",
   "version": "3.8.10"
  }
 },
 "nbformat": 4,
 "nbformat_minor": 4
}
