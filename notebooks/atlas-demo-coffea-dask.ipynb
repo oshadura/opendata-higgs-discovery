{
 "cells": [
  {
   "cell_type": "markdown",
   "metadata": {},
   "source": [
    "# Test Coffea with a DASK executor\r\n",
    "\r\n",
    "This will test Coffea to see if we can figure out how to use it with our code, but running with a local DASK executor.\r\n",
    "This doesn't make sense for this query - there is only one file, but it will test the pipeline!\r\n",
    "\r\n",
    "First are the includes from coffea. This is based on the [example written by Ben](https://github.com/CoffeaTeam/coffea/blob/master/binder/servicex/ATLAS/LocalExample.ipynb)."
   ]
  },
  {
   "cell_type": "code",
   "execution_count": 2,
   "metadata": {},
   "outputs": [],
   "source": [
    "from servicex import ServiceXDataset\n",
    "from coffea.processor.servicex import DataSource, Analysis\n",
    "from coffea.processor.servicex import DaskExecutor, LocalExecutor \n",
    "\n",
    "import matplotlib.pyplot as plt\n",
    "\n",
    "from coffea import hist, processor\n",
    "from IPython.display import display, update_display, HTML"
   ]
  },
  {
   "cell_type": "markdown",
   "metadata": {},
   "source": [
    "And imports connected with running servicex."
   ]
  },
  {
   "cell_type": "code",
   "execution_count": 3,
   "metadata": {},
   "outputs": [],
   "source": [
    "from func_adl import ObjectStream\r\n",
    "from func_adl_servicex import ServiceXSourceUpROOT\r\n",
    "from hist import Hist\r\n",
    "import mplhep as mpl\r\n",
    "import awkward as ak\r\n",
    "\r\n",
    "from utils import files"
   ]
  },
  {
   "cell_type": "markdown",
   "metadata": {},
   "source": [
    "Methods copied to help us get all leptons from the source files"
   ]
  },
  {
   "cell_type": "code",
   "execution_count": 4,
   "metadata": {},
   "outputs": [],
   "source": [
    "def apply_event_cuts (source: ObjectStream) -> ObjectStream:\r\n",
    "    '''Event level cuts for the analysis. Keep from sending data that we aren't going to need at all in the end.\r\n",
    "    '''\r\n",
    "    return (source\r\n",
    "        .Where(lambda e: e.trigE or e.trigM))\r\n",
    "\r\n",
    "def good_leptons(source: ObjectStream) -> ObjectStream:\r\n",
    "    '''Select out all good leptons from each event. Return their pt, eta, phi, and E, and other\r\n",
    "    things needed downstream.\r\n",
    "\r\n",
    "    Because uproot doesn't tie toegher the objects, we can't do any cuts at this point.\r\n",
    "    '''\r\n",
    "    return source.Select(lambda e:\r\n",
    "        {\r\n",
    "            'lep_pt': e.lep_pt,\r\n",
    "            'lep_eta': e.lep_eta,\r\n",
    "            'lep_phi': e.lep_phi,\r\n",
    "            'lep_energy': e.lep_E,\r\n",
    "            'lep_charge': e.lep_charge,\r\n",
    "            'lep_ptcone30': e.lep_ptcone30,\r\n",
    "            'lep_etcone20': e.lep_etcone20,\r\n",
    "            'lep_type': e.lep_type,\r\n",
    "            'lep_trackd0pvunbiased': e.lep_trackd0pvunbiased,\r\n",
    "            'lep_tracksigd0pvunbiased': e.lep_tracksigd0pvunbiased,\r\n",
    "            'lep_z0': e.lep_z0,\r\n",
    "        })"
   ]
  },
  {
   "cell_type": "markdown",
   "metadata": {},
   "source": [
    "Create the `func_adl` cuts to get the data. The dataset we use here doesn't matter, as long as it \"looks\" like all the datasets we are going to be processing."
   ]
  },
  {
   "cell_type": "code",
   "execution_count": 5,
   "metadata": {},
   "outputs": [],
   "source": [
    "ds = ServiceXSourceUpROOT('cernopendata://dummy',  files['ggH125_ZZ4lep']['treename'], backend_name='open_uproot')\n",
    "ds.return_qastle = True\n",
    "leptons = good_leptons(apply_event_cuts(ds))"
   ]
  },
  {
   "cell_type": "markdown",
   "metadata": {},
   "source": [
    "The analysis code that will apply the 4 lepton cuts and make the 4 lepton mass plot."
   ]
  },
  {
   "cell_type": "code",
   "execution_count": 6,
   "metadata": {},
   "outputs": [],
   "source": [
    "class ATLAS_Higgs_4L(Analysis):\r\n",
    "    @staticmethod\r\n",
    "    def process(events):\r\n",
    "        import awkward as ak\r\n",
    "        from collections import defaultdict\r\n",
    "\r\n",
    "        sumw = defaultdict(float)\r\n",
    "        mass_hist = hist.Hist(\r\n",
    "            \"Events\",\r\n",
    "            hist.Cat(\"dataset\", \"Dataset\"),\r\n",
    "            hist.Bin(\"mass\", \"$Z_{ee}$ [GeV]\", 60, 60, 120),\r\n",
    "        )\r\n",
    "\r\n",
    "        dataset = events.metadata['dataset']\r\n",
    "        leptons = events.lep\r\n",
    "\r\n",
    "        # We need to look at 4 lepton events only.\r\n",
    "        cut = (ak.num(leptons) == 4)\r\n",
    "\r\n",
    "        # Form the invar mass, plot.\r\n",
    "        # diele = electrons[cut][:, 0] + electrons[cut][:, 1]\r\n",
    "        # diele.mass\r\n",
    "        dilepton = leptons[:,0] + leptons[:,1]\r\n",
    "        mass_4l = leptons.mass\r\n",
    "\r\n",
    "        # Fill the histogram\r\n",
    "        sumw[dataset] += len(events)\r\n",
    "        print(len(events))\r\n",
    "        mass_hist.fill(\r\n",
    "            dataset=dataset,\r\n",
    "            mass=ak.flatten(mass_4l),\r\n",
    "        )\r\n",
    "        \r\n",
    "        return {\r\n",
    "            \"sumw\": sumw,\r\n",
    "            \"mass\": mass_hist\r\n",
    "        }"
   ]
  },
  {
   "cell_type": "markdown",
   "metadata": {},
   "source": [
    "Create the data source that we will be running against."
   ]
  },
  {
   "cell_type": "code",
   "execution_count": 7,
   "metadata": {},
   "outputs": [],
   "source": [
    "def make_ds(name: str, query: ObjectStream):\n",
    "    '''Create a ServiceX Datasource for a particular ATLAS Open data file\n",
    "    '''\n",
    "    datasets = [ServiceXDataset(files[name]['files'], backend_name='open_uproot')]\n",
    "    return DataSource(query=query, metadata={'dataset': name}, datasets=datasets)"
   ]
  },
  {
   "cell_type": "markdown",
   "metadata": {},
   "source": [
    "And run!"
   ]
  },
  {
   "cell_type": "code",
   "execution_count": 8,
   "metadata": {},
   "outputs": [
    {
     "name": "stdout",
     "output_type": "stream",
     "text": [
      "164716\n",
      "1 {'sumw': defaultdict(<class 'float'>, {'[root://eospublic.cern.ch//eos/opendata/atlas/OutreachDatasets/2020-01-22/4lep/MC/mc_345060.ggH125_ZZ4lep.4lep.root]': 164716.0}), 'mass': <Hist (dataset,mass) instance at 0x7f73185eea90>}\n"
     ]
    },
    {
     "name": "stderr",
     "output_type": "stream",
     "text": [
      "/opt/conda/lib/python3.8/site-packages/awkward/_connect/_numpy.py:180: RuntimeWarning: invalid value encountered in sqrt\n",
      "  result = getattr(ufunc, method)(\n"
     ]
    }
   ],
   "source": [
    "analysis = ATLAS_Higgs_4L()\n",
    "\n",
    "executor = LocalExecutor()\n",
    "#executor = DaskExecutor(client_addr=\"tls://localhost:8786\")\n",
    "\n",
    "datasource = make_ds('ggH125_ZZ4lep', leptons)\n",
    "\n",
    "async def run_updates_stream(accumulator_stream):\n",
    "  global first\n",
    "\n",
    "  count = 0\n",
    "  async for coffea_info in accumulator_stream:\n",
    "    count += 1\n",
    "    print(count, coffea_info)\n",
    "  return coffea_info\n",
    "\n",
    "# Why do I need run_updates_stream, why not just await on execute (which fails with async gen can't).\n",
    "# Perhaps something from aiostream can help here?\n",
    "result = await run_updates_stream(executor.execute(analysis, datasource))"
   ]
  },
  {
   "cell_type": "code",
   "execution_count": 9,
   "metadata": {},
   "outputs": [
    {
     "data": {
      "text/plain": [
       "<AxesSubplot:xlabel='$Z_{ee}$ [GeV]', ylabel='Events'>"
      ]
     },
     "execution_count": 9,
     "metadata": {},
     "output_type": "execute_result"
    },
    {
     "data": {
      "image/png": "[encoded data removed]",
      "text/plain": [
       "<Figure size 432x288 with 1 Axes>"
      ]
     },
     "metadata": {
      "needs_background": "light"
     },
     "output_type": "display_data"
    }
   ],
   "source": [
    "hist.plot1d(result['mass'])"
   ]
  },
  {
   "cell_type": "code",
   "execution_count": null,
   "metadata": {},
   "outputs": [],
   "source": []
  }
 ],
 "metadata": {
  "interpreter": {
   "hash": "41c976a3581ca23dd5321440c1ba6aa61955a2d341cd42821c29af40225a7b53"
  },
  "kernelspec": {
   "display_name": "Python 3 (ipykernel)",
   "language": "python",
   "name": "python3"
  },
  "language_info": {
   "codemirror_mode": {
    "name": "ipython",
    "version": 3
   },
   "file_extension": ".py",
   "mimetype": "text/x-python",
   "name": "python",
   "nbconvert_exporter": "python",
   "pygments_lexer": "ipython3",
   "version": "3.8.10"
  }
 },
 "nbformat": 4,
 "nbformat_minor": 4
}
