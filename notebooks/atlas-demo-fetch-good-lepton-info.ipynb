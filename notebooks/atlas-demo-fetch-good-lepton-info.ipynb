{
 "cells": [
  {
   "cell_type": "markdown",
   "metadata": {},
   "source": [
    "# Simple ATLAS Analysis\n",
    "\n",
    "Crude form to fetch ATLAS data and plot it"
   ]
  },
  {
   "cell_type": "code",
   "execution_count": 1,
   "metadata": {},
   "outputs": [],
   "source": [
    "from func_adl_servicex import ServiceXSourceUpROOT\r\n",
    "from func_adl import ObjectStream\r\n",
    "from servicex import ignore_cache\r\n",
    "from hist import Hist\r\n",
    "import mplhep as mpl\r\n",
    "import awkward as ak\r\n",
    "\r\n",
    "from utils import files"
   ]
  },
  {
   "cell_type": "code",
   "execution_count": 2,
   "metadata": {},
   "outputs": [],
   "source": [
    "def make_ds(name: str):\n",
    "    '''Create a ServiceX Datasource for a particular ATLAS Open data file\n",
    "    '''\n",
    "    return ServiceXSourceUpROOT(files[name]['files'], files[name]['treename'], backend_name='open_uproot')"
   ]
  },
  {
   "cell_type": "code",
   "execution_count": 3,
   "metadata": {},
   "outputs": [],
   "source": [
    "def apply_event_cuts (source: ObjectStream) -> ObjectStream:\r\n",
    "    '''Event level cuts for the analysis. Keep from sending data that we aren't going to need at all in the end.\r\n",
    "    '''\r\n",
    "    return (source\r\n",
    "        .Where(lambda e: e.trigE or e.trigM))"
   ]
  },
  {
   "cell_type": "code",
   "execution_count": 4,
   "metadata": {},
   "outputs": [],
   "source": [
    "ds = make_ds('ggH125_ZZ4lep')\r\n",
    "good_events = apply_event_cuts(ds)"
   ]
  },
  {
   "cell_type": "code",
   "execution_count": 5,
   "metadata": {},
   "outputs": [
    {
     "data": {
      "application/vnd.jupyter.widget-view+json": {
       "model_id": "",
       "version_major": 2,
       "version_minor": 0
      },
      "text/plain": [
       "[root://eospublic.ce...:   0%|          | 0/9000000000.0 [00:00]"
      ]
     },
     "metadata": {},
     "output_type": "display_data"
    },
    {
     "data": {
      "application/vnd.jupyter.widget-view+json": {
       "model_id": "",
       "version_major": 2,
       "version_minor": 0
      },
      "text/plain": [
       "        [root://eospublic.ce... Downloaded:   0%|          | 0/9000000000.0 [00:00]"
      ]
     },
     "metadata": {},
     "output_type": "display_data"
    }
   ],
   "source": [
    "data = (good_events\r\n",
    "    .Select(lambda e: {\r\n",
    "        'lep_pt': e['lep_pt']\r\n",
    "        })\r\n",
    "    .AsAwkwardArray()\r\n",
    "    .value())"
   ]
  },
  {
   "cell_type": "code",
   "execution_count": 6,
   "metadata": {},
   "outputs": [
    {
     "data": {
      "text/plain": [
       "(164716, 659806)"
      ]
     },
     "execution_count": 6,
     "metadata": {},
     "output_type": "execute_result"
    }
   ],
   "source": [
    "len(data['lep_pt']), len(ak.flatten(data['lep_pt']))"
   ]
  },
  {
   "cell_type": "markdown",
   "metadata": {},
   "source": [
    "Some info on how the cuts are going\r\n",
    "\r\n",
    "| cuts | # Events | # Leptons |\r\n",
    "| -: | -: | -: |\r\n",
    "| None | 164,716 | 659806 |\r\n",
    "| E/M Trigger |  164,715 | 659802 |\r\n",
    "\r\n",
    "Total datasize of the full query: 25 MB\r\n"
   ]
  },
  {
   "cell_type": "code",
   "execution_count": 7,
   "metadata": {},
   "outputs": [
    {
     "data": {
      "text/plain": [
       "<Array [4, 4, 4, 4, 4, 4, ... 4, 4, 4, 4, 4, 4] type='164716 * int64'>"
      ]
     },
     "execution_count": 7,
     "metadata": {},
     "output_type": "execute_result"
    }
   ],
   "source": [
    "ak.count(data['lep_pt'], axis=1)"
   ]
  }
 ],
 "metadata": {
  "interpreter": {
   "hash": "41c976a3581ca23dd5321440c1ba6aa61955a2d341cd42821c29af40225a7b53"
  },
  "kernelspec": {
   "display_name": "Python 3 (ipykernel)",
   "language": "python",
   "name": "python3"
  },
  "language_info": {
   "codemirror_mode": {
    "name": "ipython",
    "version": 3
   },
   "file_extension": ".py",
   "mimetype": "text/x-python",
   "name": "python",
   "nbconvert_exporter": "python",
   "pygments_lexer": "ipython3",
   "version": "3.8.10"
  }
 },
 "nbformat": 4,
 "nbformat_minor": 4
}
